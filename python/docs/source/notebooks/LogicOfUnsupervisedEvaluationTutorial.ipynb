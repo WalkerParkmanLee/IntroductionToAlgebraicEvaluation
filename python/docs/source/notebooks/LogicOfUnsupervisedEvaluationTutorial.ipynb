{
 "cells": [
  {
   "cell_type": "markdown",
   "id": "2cd7a0b5-d493-4717-9a7e-fd7c9abac8c7",
   "metadata": {},
   "source": [
    "# The Logic of Unsupervised Evaluation : A simple demonstration"
   ]
  },
  {
   "cell_type": "markdown",
   "id": "f8bd49a8-ae0c-44c6-a6d4-4e0b4657fd1e",
   "metadata": {},
   "source": [
    "Unsupervised evaluation is trying to test noisy decision makers with unlabeled data. This is the principal/agent monitoring paradox. A job has been delegated to an agent - whether robotic or human. But we know the agents are not perfect in their decisions. In some settings, this imperfection is unsafe and must be detected to prevent possible future costly failures. The paradox lies in us having to then \"do the work twice\" - check the job for which we deployed the agent so as not to do ourselves!\n",
    "\n",
    "We hear this often nowadays with LLMs - they are great until they are not. They speed up our work but now we have to do work to check they are doing their tasks correctly. NTQR logic is about mitigating this monitoring paradox by increasing the reliability of unsupervised evaluation.\n",
    "\n",
    "The utility of NTQR logic comes from three properties:\n",
    "\n",
    "1. It is **universal**: The solution for error independent classifiers in the code applies to all domains as long as its sole assumption is satisfied - error independency on the test. But more importantly, the postulates in `ntqr.r2.postulates` are **always** true for any group of classifiers in **any** domain. It achieves this by being completely algebraic on the observed decisions of the classifiers. It has no other parameters to tune or set to produce its outputs.\n",
    "2. It is **complete**: Universal postulates have been recognized before. Most notably, Platanios et al in the **agreement equations**. What has not been recognized at all by most ML researchers and engineers is that there are a complete set of postulates that explain **any** unsupervised evaluation of classifiers. The agreement equations are but a small subset of the complete set needed for classifiers. The power of completeness for safety is that it provides iron clad proof that an evaluation cannot possibly be correct.\n",
    "3. It allows you to create **self-alarming** evaluation algorithms: The finite nature of any test for classifiers allows us to restrict all solutions of sample statistics to a small set of rational numbers inside the unit cube. Since the algebraic algorithms of NTQR logic are polynomial functions of unknown statistics of correctness for the classifiers they always produce **algebraic** numbers. The class of **algebraic** numbers also includes the **irrationals**. Using this, one can prove that if you evaluate a set of three binary classifiers and the prevalence estimates contain irrational numbers - the classifiers **are** error correlated on the test. We know of no other evaluation method on unlabeled data that can signal the failure of its own independence assumption."
   ]
  },
  {
   "cell_type": "markdown",
   "id": "ae85d3ac-0e07-4e36-9c7c-dada26b36263",
   "metadata": {},
   "source": [
    "## A simple demonstration of their universality"
   ]
  },
  {
   "cell_type": "markdown",
   "id": "b2e89b55-df01-44e0-80c7-30d8dfa4e1e2",
   "metadata": {},
   "source": [
    "We say the expressions in `ntqr.r2.postulates` are postulates because they are always identically zero for sample statistics that come from summarizing the decisions of binary classifiers. This section will demonstrate this with the example data sketch from an UCI Adult dataset evaluation contained in `ntqr.r2.examples`."
   ]
  },
  {
   "cell_type": "code",
   "execution_count": 1,
   "id": "75ca2ffd-bbfc-4935-baff-84675becc508",
   "metadata": {},
   "outputs": [],
   "source": [
    "from pprint import pprint\n",
    "\n",
    "import ntqr"
   ]
  },
  {
   "cell_type": "code",
   "execution_count": 5,
   "id": "3b484555-bd93-4d05-8c73-f54a151c4262",
   "metadata": {},
   "outputs": [
    {
     "name": "stdout",
     "output_type": "stream",
     "text": [
      "{'a': {('a', 'a', 'a'): 715,\n",
      "       ('a', 'a', 'b'): 161,\n",
      "       ('a', 'b', 'a'): 2406,\n",
      "       ('a', 'b', 'b'): 455,\n",
      "       ('b', 'a', 'a'): 290,\n",
      "       ('b', 'a', 'b'): 94,\n",
      "       ('b', 'b', 'a'): 1335,\n",
      "       ('b', 'b', 'b'): 231},\n",
      " 'b': {('a', 'a', 'a'): 271,\n",
      "       ('a', 'a', 'b'): 469,\n",
      "       ('a', 'b', 'a'): 3395,\n",
      "       ('a', 'b', 'b'): 7517,\n",
      "       ('b', 'a', 'a'): 272,\n",
      "       ('b', 'a', 'b'): 399,\n",
      "       ('b', 'b', 'a'): 6377,\n",
      "       ('b', 'b', 'b'): 12455}}\n"
     ]
    }
   ],
   "source": [
    "from ntqr.r2.examples import uciadult_label_counts as data_sketch\n",
    "pprint(data_sketch)"
   ]
  },
  {
   "cell_type": "markdown",
   "id": "d23477db-7d17-4af9-8c2f-6d53b673438b",
   "metadata": {},
   "source": [
    "Let us use these by-label voting events counts to calculate the exact evaluation for the classifiers on this test."
   ]
  },
  {
   "cell_type": "code",
   "execution_count": 6,
   "id": "fa46f8d6-a683-4651-bb44-128a60c8e8f7",
   "metadata": {},
   "outputs": [],
   "source": [
    "trio_label_counts = ntqr.TrioLabelVoteCounts(data_sketch)\n",
    "supervised_eval = ntqr.SupervisedEvaluation(trio_label_counts)\n",
    "supervised_eval_exact = supervised_eval.evaluation_exact\n",
    "supervised_eval_float = supervised_eval.evaluation_float"
   ]
  },
  {
   "cell_type": "markdown",
   "id": "4f403cec-e14d-446d-8e61-596382ddf370",
   "metadata": {},
   "source": [
    "The exact evaluation - it contains only rational integers - looks as follows,"
   ]
  },
  {
   "cell_type": "code",
   "execution_count": 7,
   "id": "1e0e94b5-7025-42ae-b58e-0d9e48ae64ba",
   "metadata": {},
   "outputs": [
    {
     "name": "stdout",
     "output_type": "stream",
     "text": [
      "{'accuracies': [{'a': Fraction(3737, 5687), 'b': Fraction(6501, 10385)},\n",
      "                {'a': Fraction(1260, 5687), 'b': Fraction(29744, 31155)},\n",
      "                {'a': Fraction(4746, 5687), 'b': Fraction(4168, 6231)}],\n",
      " 'pair_correlations': {'a': {(0, 1): Fraction(273192, 32341969),\n",
      "                             (0, 2): Fraction(13325, 32341969),\n",
      "                             (1, 2): Fraction(-264525, 32341969)},\n",
      "                       'b': {(0, 1): Fraction(2204576, 323544675),\n",
      "                             (0, 2): Fraction(-79682, 12941787),\n",
      "                             (1, 2): Fraction(94508, 38825361)}},\n",
      " 'prevalence': {'a': Fraction(5687, 36842), 'b': Fraction(31155, 36842)}}\n"
     ]
    }
   ],
   "source": [
    "pprint(supervised_eval_exact)"
   ]
  },
  {
   "cell_type": "markdown",
   "id": "11aebe5e-3305-48f4-bffb-cf221a67e5ea",
   "metadata": {},
   "source": [
    "There should also be two three-way error correlations in a full supervised evaluation. That is for 0.2! Although exact, these numbers are hard for humans to interpret since we prefer decimal numbers."
   ]
  },
  {
   "cell_type": "code",
   "execution_count": 8,
   "id": "ced779b0-19d3-47f4-8bde-c00acc0fb0bd",
   "metadata": {},
   "outputs": [
    {
     "name": "stdout",
     "output_type": "stream",
     "text": [
      "{'accuracies': [{'a': 0.6571127132055565, 'b': 0.625999037072701},\n",
      "                {'a': 0.22155793915948654, 'b': 0.9547103193708875},\n",
      "                {'a': 0.8345349041673993, 'b': 0.6689134970309741}],\n",
      " 'pair_correlations': {'a': {(0, 1): 0.008446981072797392,\n",
      "                             (0, 2): 0.00041200336318422665,\n",
      "                             (1, 2): -0.008179001099160041},\n",
      "                       'b': {(0, 1): 0.0068138225424356005,\n",
      "                             (0, 2): -0.006156954986200901,\n",
      "                             (1, 2): 0.0024341821316226785}},\n",
      " 'prevalence': {'a': 0.15436186960534173, 'b': 0.8456381303946583}}\n"
     ]
    }
   ],
   "source": [
    "pprint(supervised_eval_float)"
   ]
  },
  {
   "cell_type": "markdown",
   "id": "88c5fc1e-b967-4b1e-b1cf-6e4bb441090f",
   "metadata": {},
   "source": [
    "We can now use these sample statistics of correctness for the three binary classifiers on this test to see if the postulates are obeyed or not."
   ]
  },
  {
   "cell_type": "markdown",
   "id": "f8f0deec-a8ab-42d2-b995-799acd289523",
   "metadata": {},
   "source": [
    "## The NTQR postulates for N=2, R=2 binary classifiers"
   ]
  },
  {
   "cell_type": "code",
   "execution_count": 2,
   "id": "00c23857-4a81-4c41-9832-6f556422923d",
   "metadata": {},
   "outputs": [],
   "source": [
    "from ntqr.r2.postulates import single_binary_classifier_postulate"
   ]
  },
  {
   "cell_type": "markdown",
   "id": "77d52049-b841-4e9f-8761-6ce53aae494d",
   "metadata": {},
   "source": [
    "Whenever we have $N$ classifiers, there will be some postulates for all $N$ of them signalled by its use of N-way error correlations. There will also be postulates for $N-1$ of them and so on down to $N=1$. So let us demonstrate them backwards. We start with the single postulate that applies to any single binary classifier."
   ]
  },
  {
   "cell_type": "code",
   "execution_count": 3,
   "id": "b75837fe-c3c1-4efd-b835-0d970bde661a",
   "metadata": {},
   "outputs": [
    {
     "data": {
      "text/latex": [
       "$\\displaystyle P_{a} \\left(P_{i, a} - f_{a_i}\\right) - P_{b} \\left(P_{i, b} - f_{b_i}\\right)$"
      ],
      "text/plain": [
       "P_a*(P_{i, a} - f_{a_i}) - P_b*(P_{i, b} - f_{b_i})"
      ]
     },
     "execution_count": 3,
     "metadata": {},
     "output_type": "execute_result"
    }
   ],
   "source": [
    "single_binary_classifier_postulate"
   ]
  },
  {
   "cell_type": "markdown",
   "id": "a30e0440-0c0b-45c0-af9f-bd51714abbc0",
   "metadata": {},
   "source": [
    "Let's redefine some names to make the checks easier to write out."
   ]
  },
  {
   "cell_type": "code",
   "execution_count": 11,
   "id": "5f587743-42fa-44a6-b537-f2da585be671",
   "metadata": {},
   "outputs": [
    {
     "name": "stdout",
     "output_type": "stream",
     "text": [
      "Fraction(5687, 36842)\n",
      "Fraction(31155, 36842)\n"
     ]
    }
   ],
   "source": [
    "pa = supervised_eval_exact['prevalence']['a']\n",
    "pb = supervised_eval_exact['prevalence']['b']\n",
    "pprint(pa)\n",
    "pprint(pb)"
   ]
  },
  {
   "cell_type": "markdown",
   "id": "fb3dfd37-1758-4fe6-bcd6-39328f1d8284",
   "metadata": {},
   "source": [
    "We also need to know the label accuracy for each of the three classifiers."
   ]
  },
  {
   "cell_type": "markdown",
   "id": "34e4c8ac-b295-4350-b32c-97c5e6e7f5f3",
   "metadata": {},
   "source": [
    "The single postulate requires that we know the voting frequency for each classifier."
   ]
  },
  {
   "cell_type": "code",
   "execution_count": 26,
   "id": "b37413ed-4ba7-47ba-82d8-add94387a04f",
   "metadata": {},
   "outputs": [
    {
     "name": "stdout",
     "output_type": "stream",
     "text": [
      "[{'a': Fraction(3737, 5687), 'b': Fraction(6501, 10385)},\n",
      " {'a': Fraction(1260, 5687), 'b': Fraction(29744, 31155)},\n",
      " {'a': Fraction(4746, 5687), 'b': Fraction(4168, 6231)}]\n"
     ]
    }
   ],
   "source": [
    "classifier_accuracies = [\n",
    "    {label: supervised_eval_exact['accuracies'][classifier][label]\n",
    "     for label in ('a', 'b')\n",
    "    } for classifier in range(3)]\n",
    "pprint(classifier_accuracies)\n",
    "cla = classifier_accuracies\n",
    "    "
   ]
  },
  {
   "cell_type": "code",
   "execution_count": 18,
   "id": "0678ba47-ece2-41e7-b35f-db0701cd5b19",
   "metadata": {},
   "outputs": [
    {
     "name": "stdout",
     "output_type": "stream",
     "text": [
      "TrioVoteCounts(vote_counts={('a', 'a', 'a'): 986,\n",
      "                            ('a', 'a', 'b'): 630,\n",
      "                            ('a', 'b', 'a'): 5801,\n",
      "                            ('a', 'b', 'b'): 7972,\n",
      "                            ('b', 'a', 'a'): 562,\n",
      "                            ('b', 'a', 'b'): 493,\n",
      "                            ('b', 'b', 'a'): 7712,\n",
      "                            ('b', 'b', 'b'): 12686})\n"
     ]
    }
   ],
   "source": [
    "trio_vote_counts = trio_label_counts.to_TrioVoteCounts()\n",
    "pprint(trio_vote_counts)\n",
    "tvc = trio_vote_counts"
   ]
  },
  {
   "cell_type": "code",
   "execution_count": 20,
   "id": "fbbd76c6-3f73-4b59-904c-87eae055be9b",
   "metadata": {},
   "outputs": [
    {
     "name": "stdout",
     "output_type": "stream",
     "text": [
      "[{'a': Fraction(15389, 36842), 'b': Fraction(21453, 36842)},\n",
      " {'a': Fraction(2671, 36842), 'b': Fraction(34171, 36842)},\n",
      " {'a': Fraction(15061, 36842), 'b': Fraction(21781, 36842)}]\n"
     ]
    }
   ],
   "source": [
    "classifiers_voting_frequencies = [\n",
    "    {label: tvc.classifier_label_frequency(classifier, label) \n",
    "     for label in ('a', 'b')\n",
    "    } for classifier in range(3)]\n",
    "pprint(classifiers_voting_frequencies)\n",
    "cvf = classifiers_voting_frequencies"
   ]
  },
  {
   "cell_type": "code",
   "execution_count": 31,
   "id": "8998cbf5-23a4-4967-8d01-b20774342f5b",
   "metadata": {},
   "outputs": [
    {
     "data": {
      "text/plain": [
       "[Fraction(1, 1), Fraction(1, 1), Fraction(1, 1)]"
      ]
     },
     "execution_count": 31,
     "metadata": {},
     "output_type": "execute_result"
    }
   ],
   "source": [
    "# By construction, these observed label voting frequencies must add to one.\n",
    "[sum(cvf[classifier].values()) for classifier in range(3)]"
   ]
  },
  {
   "cell_type": "code",
   "execution_count": 27,
   "id": "58382871-c493-4e94-82d5-1d897531a78a",
   "metadata": {},
   "outputs": [
    {
     "data": {
      "text/plain": [
       "[Fraction(0, 1), Fraction(0, 1), Fraction(0, 1)]"
      ]
     },
     "execution_count": 27,
     "metadata": {},
     "output_type": "execute_result"
    }
   ],
   "source": [
    "# Checking the single binary classifier postulate on all three classifiers\n",
    "[ (pa * (cla[classifier]['a'] - cvf[classifier]['a']) - \n",
    "   pb * (cla[classifier]['b'] - cvf[classifier]['b']))\n",
    " for classifier in range(3)]"
   ]
  },
  {
   "cell_type": "markdown",
   "id": "66db92bf-bf49-4b5d-b2e0-ce3abb43c3a1",
   "metadata": {},
   "source": [
    "### Simple demonstration of the utility of exact over inexact calculations for logic"
   ]
  },
  {
   "cell_type": "markdown",
   "id": "8b89844a-4504-48d6-b6fb-9ce4d1b9bbc4",
   "metadata": {},
   "source": [
    "How well are the postulates obeyed when we use inexact float computations?"
   ]
  },
  {
   "cell_type": "code",
   "execution_count": 28,
   "id": "e995ef5e-9303-444b-858d-88069895594d",
   "metadata": {},
   "outputs": [
    {
     "data": {
      "text/plain": [
       "[3.469446951953614e-17, 5.551115123125783e-17, -4.163336342344337e-17]"
      ]
     },
     "execution_count": 28,
     "metadata": {},
     "output_type": "execute_result"
    }
   ],
   "source": [
    "# Checking the single binary classifier postulate on all three classifiers\n",
    "# but now we use floats\n",
    "\n",
    "[ (float(pa) * (float(cla[classifier]['a']) - float(cvf[classifier]['a'])) - \n",
    "   float(pb) * (float(cla[classifier]['b']) - float(cvf[classifier]['b'])))\n",
    " for classifier in range(3)]"
   ]
  },
  {
   "cell_type": "code",
   "execution_count": 32,
   "id": "7a5adf93-18b7-461a-9712-397b1c8e4c09",
   "metadata": {},
   "outputs": [
    {
     "data": {
      "text/plain": [
       "[0.03020991947924493, 0.01880900348260213, 0.053721315513076]"
      ]
     },
     "execution_count": 32,
     "metadata": {},
     "output_type": "execute_result"
    }
   ],
   "source": [
    "# It gets worse when we use the fact that P_b = 1 - P_a\n",
    "\n",
    "[ (float(pa) * (float(cla[classifier]['a']) - float(cvf[classifier]['a'])) - \n",
    "   float(1-pb) * (float(cla[classifier]['b']) - float(cvf[classifier]['b'])))\n",
    " for classifier in range(3)]"
   ]
  },
  {
   "cell_type": "code",
   "execution_count": null,
   "id": "7e8e2791-c197-451d-bd3f-fbcfd734fe5c",
   "metadata": {},
   "outputs": [],
   "source": []
  }
 ],
 "metadata": {
  "kernelspec": {
   "display_name": "Python 3 (ipykernel)",
   "language": "python",
   "name": "python3"
  },
  "language_info": {
   "codemirror_mode": {
    "name": "ipython",
    "version": 3
   },
   "file_extension": ".py",
   "mimetype": "text/x-python",
   "name": "python",
   "nbconvert_exporter": "python",
   "pygments_lexer": "ipython3",
   "version": "3.11.5"
  }
 },
 "nbformat": 4,
 "nbformat_minor": 5
}
